{
 "cells": [
  {
   "cell_type": "markdown",
   "id": "784a3578",
   "metadata": {},
   "source": [
    "# sentiment analysis on imdb movie review "
   ]
  },
  {
   "cell_type": "code",
   "execution_count": 2,
   "id": "651e63ec",
   "metadata": {},
   "outputs": [],
   "source": [
    "import numpy as np\n",
    "import pandas as pd"
   ]
  },
  {
   "cell_type": "code",
   "execution_count": 2,
   "id": "04e5835f",
   "metadata": {},
   "outputs": [
    {
     "data": {
      "text/html": [
       "<div>\n",
       "<style scoped>\n",
       "    .dataframe tbody tr th:only-of-type {\n",
       "        vertical-align: middle;\n",
       "    }\n",
       "\n",
       "    .dataframe tbody tr th {\n",
       "        vertical-align: top;\n",
       "    }\n",
       "\n",
       "    .dataframe thead th {\n",
       "        text-align: right;\n",
       "    }\n",
       "</style>\n",
       "<table border=\"1\" class=\"dataframe\">\n",
       "  <thead>\n",
       "    <tr style=\"text-align: right;\">\n",
       "      <th></th>\n",
       "      <th>review</th>\n",
       "      <th>sentiment</th>\n",
       "    </tr>\n",
       "  </thead>\n",
       "  <tbody>\n",
       "    <tr>\n",
       "      <th>0</th>\n",
       "      <td>One of the other reviewers has mentioned that ...</td>\n",
       "      <td>positive</td>\n",
       "    </tr>\n",
       "    <tr>\n",
       "      <th>1</th>\n",
       "      <td>A wonderful little production. &lt;br /&gt;&lt;br /&gt;The...</td>\n",
       "      <td>positive</td>\n",
       "    </tr>\n",
       "    <tr>\n",
       "      <th>2</th>\n",
       "      <td>I thought this was a wonderful way to spend ti...</td>\n",
       "      <td>positive</td>\n",
       "    </tr>\n",
       "    <tr>\n",
       "      <th>3</th>\n",
       "      <td>Basically there's a family where a little boy ...</td>\n",
       "      <td>negative</td>\n",
       "    </tr>\n",
       "    <tr>\n",
       "      <th>4</th>\n",
       "      <td>Petter Mattei's \"Love in the Time of Money\" is...</td>\n",
       "      <td>positive</td>\n",
       "    </tr>\n",
       "  </tbody>\n",
       "</table>\n",
       "</div>"
      ],
      "text/plain": [
       "                                              review sentiment\n",
       "0  One of the other reviewers has mentioned that ...  positive\n",
       "1  A wonderful little production. <br /><br />The...  positive\n",
       "2  I thought this was a wonderful way to spend ti...  positive\n",
       "3  Basically there's a family where a little boy ...  negative\n",
       "4  Petter Mattei's \"Love in the Time of Money\" is...  positive"
      ]
     },
     "execution_count": 2,
     "metadata": {},
     "output_type": "execute_result"
    }
   ],
   "source": [
    "df=pd.read_csv('C:\\\\Users\\\\poojapatra\\\\Downloads\\\\IMDB DATASET.csv')\n",
    "df.head()"
   ]
  },
  {
   "cell_type": "code",
   "execution_count": 3,
   "id": "e99ce070",
   "metadata": {},
   "outputs": [
    {
     "data": {
      "text/plain": [
       "\"One of the other reviewers has mentioned that after watching just 1 Oz episode you'll be hooked. They are right, as this is exactly what happened with me.<br /><br />The first thing that struck me about Oz was its brutality and unflinching scenes of violence, which set in right from the word GO. Trust me, this is not a show for the faint hearted or timid. This show pulls no punches with regards to drugs, sex or violence. Its is hardcore, in the classic use of the word.<br /><br />It is called OZ as that is the nickname given to the Oswald Maximum Security State Penitentary. It focuses mainly on Emerald City, an experimental section of the prison where all the cells have glass fronts and face inwards, so privacy is not high on the agenda. Em City is home to many..Aryans, Muslims, gangstas, Latinos, Christians, Italians, Irish and more....so scuffles, death stares, dodgy dealings and shady agreements are never far away.<br /><br />I would say the main appeal of the show is due to the fact that it goes where other shows wouldn't dare. Forget pretty pictures painted for mainstream audiences, forget charm, forget romance...OZ doesn't mess around. The first episode I ever saw struck me as so nasty it was surreal, I couldn't say I was ready for it, but as I watched more, I developed a taste for Oz, and got accustomed to the high levels of graphic violence. Not just violence, but injustice (crooked guards who'll be sold out for a nickel, inmates who'll kill on order and get away with it, well mannered, middle class inmates being turned into prison bitches due to their lack of street skills or prison experience) Watching Oz, you may become comfortable with what is uncomfortable viewing....thats if you can get in touch with your darker side.\""
      ]
     },
     "execution_count": 3,
     "metadata": {},
     "output_type": "execute_result"
    }
   ],
   "source": [
    "df['review'][0]"
   ]
  },
  {
   "cell_type": "code",
   "execution_count": 4,
   "id": "8c69ee72",
   "metadata": {},
   "outputs": [],
   "source": [
    "df=df.sample(10000)"
   ]
  },
  {
   "cell_type": "code",
   "execution_count": 5,
   "id": "f5a2cb62",
   "metadata": {},
   "outputs": [
    {
     "data": {
      "text/plain": [
       "(10000, 2)"
      ]
     },
     "execution_count": 5,
     "metadata": {},
     "output_type": "execute_result"
    }
   ],
   "source": [
    "df.shape"
   ]
  },
  {
   "cell_type": "code",
   "execution_count": 6,
   "id": "b08e14e6",
   "metadata": {},
   "outputs": [
    {
     "data": {
      "text/plain": [
       "<bound method DataFrame.info of                                                   review sentiment\n",
       "13919  As a movie this barely rates a 4 but for movie...  positive\n",
       "31374  This is without a doubt the funniest of the Cu...  positive\n",
       "31817  The Captain and Tennille have released a very ...  positive\n",
       "23017  I was talked into watching this movie by a fri...  negative\n",
       "26361  When Nathaniel Kahn embarked into this voyage,...  positive\n",
       "...                                                  ...       ...\n",
       "47140  In an early scene, Luca (David Pasquesi) and J...  positive\n",
       "44545  This movie is outrageous, funny, ribald, sophi...  positive\n",
       "30930  I'm generally not a fan of high school comedie...  negative\n",
       "4882   4 Oscar winners, Karl Malden, Sally Field, Shi...  negative\n",
       "43038  This film has a special place in my heart as t...  negative\n",
       "\n",
       "[10000 rows x 2 columns]>"
      ]
     },
     "execution_count": 6,
     "metadata": {},
     "output_type": "execute_result"
    }
   ],
   "source": [
    "df.info"
   ]
  },
  {
   "cell_type": "code",
   "execution_count": 7,
   "id": "ccc16ff0",
   "metadata": {},
   "outputs": [],
   "source": [
    "df['sentiment'].replace({'positive':1,'negative':0},inplace=True)"
   ]
  },
  {
   "cell_type": "code",
   "execution_count": 8,
   "id": "7d96bcf9",
   "metadata": {},
   "outputs": [
    {
     "data": {
      "text/html": [
       "<div>\n",
       "<style scoped>\n",
       "    .dataframe tbody tr th:only-of-type {\n",
       "        vertical-align: middle;\n",
       "    }\n",
       "\n",
       "    .dataframe tbody tr th {\n",
       "        vertical-align: top;\n",
       "    }\n",
       "\n",
       "    .dataframe thead th {\n",
       "        text-align: right;\n",
       "    }\n",
       "</style>\n",
       "<table border=\"1\" class=\"dataframe\">\n",
       "  <thead>\n",
       "    <tr style=\"text-align: right;\">\n",
       "      <th></th>\n",
       "      <th>review</th>\n",
       "      <th>sentiment</th>\n",
       "    </tr>\n",
       "  </thead>\n",
       "  <tbody>\n",
       "    <tr>\n",
       "      <th>13919</th>\n",
       "      <td>As a movie this barely rates a 4 but for movie...</td>\n",
       "      <td>1</td>\n",
       "    </tr>\n",
       "    <tr>\n",
       "      <th>31374</th>\n",
       "      <td>This is without a doubt the funniest of the Cu...</td>\n",
       "      <td>1</td>\n",
       "    </tr>\n",
       "    <tr>\n",
       "      <th>31817</th>\n",
       "      <td>The Captain and Tennille have released a very ...</td>\n",
       "      <td>1</td>\n",
       "    </tr>\n",
       "    <tr>\n",
       "      <th>23017</th>\n",
       "      <td>I was talked into watching this movie by a fri...</td>\n",
       "      <td>0</td>\n",
       "    </tr>\n",
       "    <tr>\n",
       "      <th>26361</th>\n",
       "      <td>When Nathaniel Kahn embarked into this voyage,...</td>\n",
       "      <td>1</td>\n",
       "    </tr>\n",
       "  </tbody>\n",
       "</table>\n",
       "</div>"
      ],
      "text/plain": [
       "                                                  review  sentiment\n",
       "13919  As a movie this barely rates a 4 but for movie...          1\n",
       "31374  This is without a doubt the funniest of the Cu...          1\n",
       "31817  The Captain and Tennille have released a very ...          1\n",
       "23017  I was talked into watching this movie by a fri...          0\n",
       "26361  When Nathaniel Kahn embarked into this voyage,...          1"
      ]
     },
     "execution_count": 8,
     "metadata": {},
     "output_type": "execute_result"
    }
   ],
   "source": [
    "df.head()"
   ]
  },
  {
   "cell_type": "code",
   "execution_count": 9,
   "id": "09ee08aa",
   "metadata": {},
   "outputs": [
    {
     "data": {
      "text/plain": [
       "\"The Captain and Tennille have released a very good 3 DVD package with minimal editing. Unlike most variety show releases these shows have not been hacked to bits. The musical and dance numbers are included with the skits just as they were when first broadcast. I suspect that some musical numbers on the DVD may have been edited into shows in which they did not originally appear but have been unable to verify that suspicion. I've noticed a few inconsistencies between what is on the DVD and program information I've found on the net. I've been unable to verify whether the net information is inaccurate or if the musical performances have been edited into the shows on the DVD. Whatever the truth may be, I'm very appreciative of the efforts made by the production company. I wish every variety show released would show the same respect for the format. I would guess about half the shows broadcast are included. I believe they ran into rights problems on the shows which weren't included. Hopefully those issues can be resolved and a Volume 2 can be released sometime in the future. There are some individual music videos along with a dance rehearsal among the extras. I recommend this DVD to any C&T fan.\""
      ]
     },
     "execution_count": 9,
     "metadata": {},
     "output_type": "execute_result"
    }
   ],
   "source": [
    "#removing all the html tags by using the regular expression library\n",
    "import re\n",
    "clean=re.compile('<.*?>')\n",
    "re.sub(clean,'',df.iloc[2].review)"
   ]
  },
  {
   "cell_type": "code",
   "execution_count": 10,
   "id": "6a226725",
   "metadata": {},
   "outputs": [],
   "source": [
    "#function to clean all html tags\n",
    "def clean_html(text):\n",
    "    clean =re.compile('<.*?>')\n",
    "    return re.sub(clean,'',text)"
   ]
  },
  {
   "cell_type": "code",
   "execution_count": 11,
   "id": "94d5a9e0",
   "metadata": {},
   "outputs": [],
   "source": [
    "#applying it to all the review column\n",
    "df['review']=df['review'].apply(clean_html)"
   ]
  },
  {
   "cell_type": "code",
   "execution_count": 12,
   "id": "67845420",
   "metadata": {},
   "outputs": [],
   "source": [
    "#then now converting all characters into lower case using the apply function\n",
    "def convert_lower(text):\n",
    "    return text.lower()"
   ]
  },
  {
   "cell_type": "code",
   "execution_count": 13,
   "id": "883ae3de",
   "metadata": {},
   "outputs": [],
   "source": [
    "df['review']=df['review'].apply(convert_lower)"
   ]
  },
  {
   "cell_type": "code",
   "execution_count": 14,
   "id": "505cc514",
   "metadata": {},
   "outputs": [],
   "source": [
    "#now removing the special characters.\n",
    "def remove_special(text):\n",
    "    x=''\n",
    "    for i in text:\n",
    "        if i.isalnum():\n",
    "            x=x+i\n",
    "        else:\n",
    "            x=x+' '\n",
    "    return x"
   ]
  },
  {
   "cell_type": "code",
   "execution_count": 15,
   "id": "f4b690b1",
   "metadata": {},
   "outputs": [],
   "source": [
    "df['review']=df['review'].apply(remove_special)"
   ]
  },
  {
   "cell_type": "code",
   "execution_count": 16,
   "id": "362cfc57",
   "metadata": {},
   "outputs": [],
   "source": [
    "#removing the stop words\n",
    "import nltk"
   ]
  },
  {
   "cell_type": "code",
   "execution_count": 17,
   "id": "b2be2f1a",
   "metadata": {},
   "outputs": [],
   "source": [
    "from nltk.corpus import stopwords"
   ]
  },
  {
   "cell_type": "code",
   "execution_count": 18,
   "id": "67b94360",
   "metadata": {},
   "outputs": [],
   "source": [
    "def remove_stopwords(text):\n",
    "    x=[]\n",
    "    for i in text.split():\n",
    "        if i not in stopwords.words('english'):\n",
    "            x.append(i)\n",
    "    y=x[:]\n",
    "    x.clear()\n",
    "    return y"
   ]
  },
  {
   "cell_type": "code",
   "execution_count": 19,
   "id": "0672d409",
   "metadata": {},
   "outputs": [],
   "source": [
    "df['review']=df['review'].apply(remove_stopwords)"
   ]
  },
  {
   "cell_type": "code",
   "execution_count": 20,
   "id": "52ea63e0",
   "metadata": {},
   "outputs": [
    {
     "data": {
      "text/html": [
       "<div>\n",
       "<style scoped>\n",
       "    .dataframe tbody tr th:only-of-type {\n",
       "        vertical-align: middle;\n",
       "    }\n",
       "\n",
       "    .dataframe tbody tr th {\n",
       "        vertical-align: top;\n",
       "    }\n",
       "\n",
       "    .dataframe thead th {\n",
       "        text-align: right;\n",
       "    }\n",
       "</style>\n",
       "<table border=\"1\" class=\"dataframe\">\n",
       "  <thead>\n",
       "    <tr style=\"text-align: right;\">\n",
       "      <th></th>\n",
       "      <th>review</th>\n",
       "      <th>sentiment</th>\n",
       "    </tr>\n",
       "  </thead>\n",
       "  <tbody>\n",
       "    <tr>\n",
       "      <th>13919</th>\n",
       "      <td>[movie, barely, rates, 4, movie, fans, 1940s, ...</td>\n",
       "      <td>1</td>\n",
       "    </tr>\n",
       "    <tr>\n",
       "      <th>31374</th>\n",
       "      <td>[without, doubt, funniest, curly, stooges, sho...</td>\n",
       "      <td>1</td>\n",
       "    </tr>\n",
       "    <tr>\n",
       "      <th>31817</th>\n",
       "      <td>[captain, tennille, released, good, 3, dvd, pa...</td>\n",
       "      <td>1</td>\n",
       "    </tr>\n",
       "    <tr>\n",
       "      <th>23017</th>\n",
       "      <td>[talked, watching, movie, friend, blubbered, c...</td>\n",
       "      <td>0</td>\n",
       "    </tr>\n",
       "    <tr>\n",
       "      <th>26361</th>\n",
       "      <td>[nathaniel, kahn, embarked, voyage, hardly, kn...</td>\n",
       "      <td>1</td>\n",
       "    </tr>\n",
       "    <tr>\n",
       "      <th>...</th>\n",
       "      <td>...</td>\n",
       "      <td>...</td>\n",
       "    </tr>\n",
       "    <tr>\n",
       "      <th>47140</th>\n",
       "      <td>[early, scene, luca, david, pasquesi, james, j...</td>\n",
       "      <td>1</td>\n",
       "    </tr>\n",
       "    <tr>\n",
       "      <th>44545</th>\n",
       "      <td>[movie, outrageous, funny, ribald, sophisticat...</td>\n",
       "      <td>1</td>\n",
       "    </tr>\n",
       "    <tr>\n",
       "      <th>30930</th>\n",
       "      <td>[generally, fan, high, school, comedies, rely,...</td>\n",
       "      <td>0</td>\n",
       "    </tr>\n",
       "    <tr>\n",
       "      <th>4882</th>\n",
       "      <td>[4, oscar, winners, karl, malden, sally, field...</td>\n",
       "      <td>0</td>\n",
       "    </tr>\n",
       "    <tr>\n",
       "      <th>43038</th>\n",
       "      <td>[film, special, place, heart, worst, movie, ev...</td>\n",
       "      <td>0</td>\n",
       "    </tr>\n",
       "  </tbody>\n",
       "</table>\n",
       "<p>10000 rows × 2 columns</p>\n",
       "</div>"
      ],
      "text/plain": [
       "                                                  review  sentiment\n",
       "13919  [movie, barely, rates, 4, movie, fans, 1940s, ...          1\n",
       "31374  [without, doubt, funniest, curly, stooges, sho...          1\n",
       "31817  [captain, tennille, released, good, 3, dvd, pa...          1\n",
       "23017  [talked, watching, movie, friend, blubbered, c...          0\n",
       "26361  [nathaniel, kahn, embarked, voyage, hardly, kn...          1\n",
       "...                                                  ...        ...\n",
       "47140  [early, scene, luca, david, pasquesi, james, j...          1\n",
       "44545  [movie, outrageous, funny, ribald, sophisticat...          1\n",
       "30930  [generally, fan, high, school, comedies, rely,...          0\n",
       "4882   [4, oscar, winners, karl, malden, sally, field...          0\n",
       "43038  [film, special, place, heart, worst, movie, ev...          0\n",
       "\n",
       "[10000 rows x 2 columns]"
      ]
     },
     "execution_count": 20,
     "metadata": {},
     "output_type": "execute_result"
    }
   ],
   "source": [
    "df"
   ]
  },
  {
   "cell_type": "code",
   "execution_count": 21,
   "id": "f347511b",
   "metadata": {},
   "outputs": [],
   "source": [
    "#now stemming\n",
    "from nltk.stem.porter import PorterStemmer\n",
    "ps=PorterStemmer()"
   ]
  },
  {
   "cell_type": "code",
   "execution_count": 22,
   "id": "37ac235c",
   "metadata": {},
   "outputs": [],
   "source": [
    "y=[]\n",
    "def stem_words(text):\n",
    "    for i in text:\n",
    "        y.append(ps.stem(i))\n",
    "    z=y[:]\n",
    "    y.clear()\n",
    "    return z"
   ]
  },
  {
   "cell_type": "code",
   "execution_count": 23,
   "id": "3cac80c5",
   "metadata": {},
   "outputs": [],
   "source": [
    "df['review']=df['review'].apply(stem_words)"
   ]
  },
  {
   "cell_type": "code",
   "execution_count": 24,
   "id": "bb4a2524",
   "metadata": {},
   "outputs": [
    {
     "data": {
      "text/html": [
       "<div>\n",
       "<style scoped>\n",
       "    .dataframe tbody tr th:only-of-type {\n",
       "        vertical-align: middle;\n",
       "    }\n",
       "\n",
       "    .dataframe tbody tr th {\n",
       "        vertical-align: top;\n",
       "    }\n",
       "\n",
       "    .dataframe thead th {\n",
       "        text-align: right;\n",
       "    }\n",
       "</style>\n",
       "<table border=\"1\" class=\"dataframe\">\n",
       "  <thead>\n",
       "    <tr style=\"text-align: right;\">\n",
       "      <th></th>\n",
       "      <th>review</th>\n",
       "      <th>sentiment</th>\n",
       "    </tr>\n",
       "  </thead>\n",
       "  <tbody>\n",
       "    <tr>\n",
       "      <th>13919</th>\n",
       "      <td>[movi, bare, rate, 4, movi, fan, 1940, period,...</td>\n",
       "      <td>1</td>\n",
       "    </tr>\n",
       "    <tr>\n",
       "      <th>31374</th>\n",
       "      <td>[without, doubt, funniest, curli, stoog, short...</td>\n",
       "      <td>1</td>\n",
       "    </tr>\n",
       "    <tr>\n",
       "      <th>31817</th>\n",
       "      <td>[captain, tennil, releas, good, 3, dvd, packag...</td>\n",
       "      <td>1</td>\n",
       "    </tr>\n",
       "    <tr>\n",
       "      <th>23017</th>\n",
       "      <td>[talk, watch, movi, friend, blubber, cute, sto...</td>\n",
       "      <td>0</td>\n",
       "    </tr>\n",
       "    <tr>\n",
       "      <th>26361</th>\n",
       "      <td>[nathaniel, kahn, embark, voyag, hardli, knew,...</td>\n",
       "      <td>1</td>\n",
       "    </tr>\n",
       "    <tr>\n",
       "      <th>...</th>\n",
       "      <td>...</td>\n",
       "      <td>...</td>\n",
       "    </tr>\n",
       "    <tr>\n",
       "      <th>47140</th>\n",
       "      <td>[earli, scene, luca, david, pasquesi, jame, je...</td>\n",
       "      <td>1</td>\n",
       "    </tr>\n",
       "    <tr>\n",
       "      <th>44545</th>\n",
       "      <td>[movi, outrag, funni, ribald, sophist, hit, bu...</td>\n",
       "      <td>1</td>\n",
       "    </tr>\n",
       "    <tr>\n",
       "      <th>30930</th>\n",
       "      <td>[gener, fan, high, school, comedi, reli, heavi...</td>\n",
       "      <td>0</td>\n",
       "    </tr>\n",
       "    <tr>\n",
       "      <th>4882</th>\n",
       "      <td>[4, oscar, winner, karl, malden, salli, field,...</td>\n",
       "      <td>0</td>\n",
       "    </tr>\n",
       "    <tr>\n",
       "      <th>43038</th>\n",
       "      <td>[film, special, place, heart, worst, movi, eve...</td>\n",
       "      <td>0</td>\n",
       "    </tr>\n",
       "  </tbody>\n",
       "</table>\n",
       "<p>10000 rows × 2 columns</p>\n",
       "</div>"
      ],
      "text/plain": [
       "                                                  review  sentiment\n",
       "13919  [movi, bare, rate, 4, movi, fan, 1940, period,...          1\n",
       "31374  [without, doubt, funniest, curli, stoog, short...          1\n",
       "31817  [captain, tennil, releas, good, 3, dvd, packag...          1\n",
       "23017  [talk, watch, movi, friend, blubber, cute, sto...          0\n",
       "26361  [nathaniel, kahn, embark, voyag, hardli, knew,...          1\n",
       "...                                                  ...        ...\n",
       "47140  [earli, scene, luca, david, pasquesi, jame, je...          1\n",
       "44545  [movi, outrag, funni, ribald, sophist, hit, bu...          1\n",
       "30930  [gener, fan, high, school, comedi, reli, heavi...          0\n",
       "4882   [4, oscar, winner, karl, malden, salli, field,...          0\n",
       "43038  [film, special, place, heart, worst, movi, eve...          0\n",
       "\n",
       "[10000 rows x 2 columns]"
      ]
     },
     "execution_count": 24,
     "metadata": {},
     "output_type": "execute_result"
    }
   ],
   "source": [
    "df"
   ]
  },
  {
   "cell_type": "code",
   "execution_count": 25,
   "id": "8e6c6d4e",
   "metadata": {},
   "outputs": [],
   "source": [
    "#joining back\n",
    "def join_back(list_input):\n",
    "    return \" \".join(list_input)"
   ]
  },
  {
   "cell_type": "code",
   "execution_count": 26,
   "id": "db236b6d",
   "metadata": {},
   "outputs": [],
   "source": [
    "df['review']=df['review'].apply(join_back)"
   ]
  },
  {
   "cell_type": "code",
   "execution_count": 27,
   "id": "10715e30",
   "metadata": {},
   "outputs": [
    {
     "data": {
      "text/plain": [
       "13919    movi bare rate 4 movi fan 1940 period almost m...\n",
       "31374    without doubt funniest curli stoog short seen ...\n",
       "31817    captain tennil releas good 3 dvd packag minim ...\n",
       "23017    talk watch movi friend blubber cute stori yuck...\n",
       "26361    nathaniel kahn embark voyag hardli knew father...\n",
       "                               ...                        \n",
       "47140    earli scene luca david pasquesi jame jeff garl...\n",
       "44545    movi outrag funni ribald sophist hit bullsey 9...\n",
       "30930    gener fan high school comedi reli heavili humo...\n",
       "4882     4 oscar winner karl malden salli field shirley...\n",
       "43038    film special place heart worst movi ever seen ...\n",
       "Name: review, Length: 10000, dtype: object"
      ]
     },
     "execution_count": 27,
     "metadata": {},
     "output_type": "execute_result"
    }
   ],
   "source": [
    "df['review']"
   ]
  },
  {
   "cell_type": "code",
   "execution_count": 28,
   "id": "632d205d",
   "metadata": {},
   "outputs": [],
   "source": [
    "X=df.iloc[:,0:1].values"
   ]
  },
  {
   "cell_type": "code",
   "execution_count": 29,
   "id": "16b00f95",
   "metadata": {},
   "outputs": [
    {
     "data": {
      "text/plain": [
       "(10000, 1)"
      ]
     },
     "execution_count": 29,
     "metadata": {},
     "output_type": "execute_result"
    }
   ],
   "source": [
    "X.shape"
   ]
  },
  {
   "cell_type": "code",
   "execution_count": 30,
   "id": "1b8cac0c",
   "metadata": {},
   "outputs": [],
   "source": [
    "from sklearn.feature_extraction.text import CountVectorizer\n",
    "cv=CountVectorizer()"
   ]
  },
  {
   "cell_type": "code",
   "execution_count": 31,
   "id": "84aa0d41",
   "metadata": {},
   "outputs": [],
   "source": [
    "X=cv.fit_transform(df['review']).toarray()\n"
   ]
  },
  {
   "cell_type": "code",
   "execution_count": 32,
   "id": "031ecd83",
   "metadata": {},
   "outputs": [
    {
     "data": {
      "text/plain": [
       "(10000, 36173)"
      ]
     },
     "execution_count": 32,
     "metadata": {},
     "output_type": "execute_result"
    }
   ],
   "source": [
    "X.shape"
   ]
  },
  {
   "cell_type": "code",
   "execution_count": 33,
   "id": "211a793b",
   "metadata": {},
   "outputs": [],
   "source": [
    "y=df.iloc[:,-1].values\n"
   ]
  },
  {
   "cell_type": "code",
   "execution_count": 34,
   "id": "d6f6fd9a",
   "metadata": {},
   "outputs": [
    {
     "data": {
      "text/plain": [
       "(10000,)"
      ]
     },
     "execution_count": 34,
     "metadata": {},
     "output_type": "execute_result"
    }
   ],
   "source": [
    "y.shape"
   ]
  },
  {
   "cell_type": "code",
   "execution_count": 35,
   "id": "e354f3c9",
   "metadata": {},
   "outputs": [],
   "source": [
    "#using the machine learning algo\n",
    "from sklearn.model_selection import train_test_split\n",
    "X_train , X_test, y_train, y_test = train_test_split(X,y,test_size=0.2)"
   ]
  },
  {
   "cell_type": "code",
   "execution_count": 36,
   "id": "6d9cf29a",
   "metadata": {},
   "outputs": [
    {
     "data": {
      "text/plain": [
       "(8000, 36173)"
      ]
     },
     "execution_count": 36,
     "metadata": {},
     "output_type": "execute_result"
    }
   ],
   "source": [
    "X_train.shape"
   ]
  },
  {
   "cell_type": "code",
   "execution_count": 37,
   "id": "64f3056c",
   "metadata": {},
   "outputs": [
    {
     "data": {
      "text/plain": [
       "(2000, 36173)"
      ]
     },
     "execution_count": 37,
     "metadata": {},
     "output_type": "execute_result"
    }
   ],
   "source": [
    "X_test.shape"
   ]
  },
  {
   "cell_type": "code",
   "execution_count": 38,
   "id": "887e553c",
   "metadata": {},
   "outputs": [
    {
     "data": {
      "text/plain": [
       "(8000,)"
      ]
     },
     "execution_count": 38,
     "metadata": {},
     "output_type": "execute_result"
    }
   ],
   "source": [
    "y_train.shape"
   ]
  },
  {
   "cell_type": "code",
   "execution_count": 39,
   "id": "970008b1",
   "metadata": {},
   "outputs": [
    {
     "data": {
      "text/plain": [
       "(2000,)"
      ]
     },
     "execution_count": 39,
     "metadata": {},
     "output_type": "execute_result"
    }
   ],
   "source": [
    "y_test.shape"
   ]
  },
  {
   "cell_type": "code",
   "execution_count": 40,
   "id": "ff77f3d9",
   "metadata": {},
   "outputs": [],
   "source": [
    "from sklearn.naive_bayes import GaussianNB,MultinomialNB,BernoulliNB"
   ]
  },
  {
   "cell_type": "code",
   "execution_count": 41,
   "id": "57e4efea",
   "metadata": {},
   "outputs": [],
   "source": [
    "clf1=GaussianNB()\n",
    "clf2=MultinomialNB()\n",
    "clf3=BernoulliNB()"
   ]
  },
  {
   "cell_type": "code",
   "execution_count": 42,
   "id": "ebfda12e",
   "metadata": {},
   "outputs": [
    {
     "data": {
      "text/plain": [
       "BernoulliNB()"
      ]
     },
     "execution_count": 42,
     "metadata": {},
     "output_type": "execute_result"
    }
   ],
   "source": [
    "clf1.fit(X_train,y_train)\n",
    "clf2.fit(X_train,y_train)\n",
    "clf3.fit(X_train,y_train)"
   ]
  },
  {
   "cell_type": "code",
   "execution_count": 43,
   "id": "77aa7508",
   "metadata": {},
   "outputs": [],
   "source": [
    "y_pred1=clf1.predict(X_test)\n",
    "y_pred2=clf2.predict(X_test)\n",
    "y_pred3=clf3.predict(X_test)"
   ]
  },
  {
   "cell_type": "code",
   "execution_count": 44,
   "id": "4be727db",
   "metadata": {},
   "outputs": [
    {
     "data": {
      "text/plain": [
       "(2000,)"
      ]
     },
     "execution_count": 44,
     "metadata": {},
     "output_type": "execute_result"
    }
   ],
   "source": [
    "y_test.shape"
   ]
  },
  {
   "cell_type": "code",
   "execution_count": 45,
   "id": "e993ef72",
   "metadata": {},
   "outputs": [
    {
     "data": {
      "text/plain": [
       "(2000,)"
      ]
     },
     "execution_count": 45,
     "metadata": {},
     "output_type": "execute_result"
    }
   ],
   "source": [
    "y_pred1.shape"
   ]
  },
  {
   "cell_type": "code",
   "execution_count": 46,
   "id": "47f20fcb",
   "metadata": {},
   "outputs": [],
   "source": [
    "from sklearn.metrics import accuracy_score"
   ]
  },
  {
   "cell_type": "code",
   "execution_count": 47,
   "id": "938a51e8",
   "metadata": {},
   "outputs": [
    {
     "name": "stdout",
     "output_type": "stream",
     "text": [
      "Gaussian 0.65\n",
      "Multinomial 0.8455\n",
      "Bernaulli 0.8405\n"
     ]
    }
   ],
   "source": [
    "print(\"Gaussian\",accuracy_score(y_test,y_pred1))\n",
    "print(\"Multinomial\",accuracy_score(y_test,y_pred2))\n",
    "print(\"Bernaulli\",accuracy_score(y_test,y_pred3))"
   ]
  }
 ],
 "metadata": {
  "kernelspec": {
   "display_name": "Python 3",
   "language": "python",
   "name": "python3"
  },
  "language_info": {
   "codemirror_mode": {
    "name": "ipython",
    "version": 3
   },
   "file_extension": ".py",
   "mimetype": "text/x-python",
   "name": "python",
   "nbconvert_exporter": "python",
   "pygments_lexer": "ipython3",
   "version": "3.8.8"
  }
 },
 "nbformat": 4,
 "nbformat_minor": 5
}
