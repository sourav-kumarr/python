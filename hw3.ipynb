{
 "cells": [
  {
   "cell_type": "code",
   "execution_count": 3,
   "id": "ac280590",
   "metadata": {},
   "outputs": [
    {
     "name": "stdout",
     "output_type": "stream",
     "text": [
      "enter how many terms:32\n",
      "the total terms are: 32\n",
      "2 raised to the power 0 is 1\n",
      "2 raised to the power 1 is 2\n",
      "2 raised to the power 2 is 4\n",
      "2 raised to the power 3 is 8\n",
      "2 raised to the power 4 is 16\n",
      "2 raised to the power 5 is 32\n",
      "2 raised to the power 6 is 64\n",
      "2 raised to the power 7 is 128\n",
      "2 raised to the power 8 is 256\n",
      "2 raised to the power 9 is 512\n",
      "2 raised to the power 10 is 1024\n",
      "2 raised to the power 11 is 2048\n",
      "2 raised to the power 12 is 4096\n",
      "2 raised to the power 13 is 8192\n",
      "2 raised to the power 14 is 16384\n",
      "2 raised to the power 15 is 32768\n",
      "2 raised to the power 16 is 65536\n",
      "2 raised to the power 17 is 131072\n",
      "2 raised to the power 18 is 262144\n",
      "2 raised to the power 19 is 524288\n",
      "2 raised to the power 20 is 1048576\n",
      "2 raised to the power 21 is 2097152\n",
      "2 raised to the power 22 is 4194304\n",
      "2 raised to the power 23 is 8388608\n",
      "2 raised to the power 24 is 16777216\n",
      "2 raised to the power 25 is 33554432\n",
      "2 raised to the power 26 is 67108864\n",
      "2 raised to the power 27 is 134217728\n",
      "2 raised to the power 28 is 268435456\n",
      "2 raised to the power 29 is 536870912\n",
      "2 raised to the power 30 is 1073741824\n",
      "2 raised to the power 31 is 2147483648\n"
     ]
    }
   ],
   "source": [
    "#Python Program To Display Powers of 2 Using Anonymous Function Display the powers of 2 using anonymous function\n",
    "terms=int(input(\"enter how many terms:\"))\n",
    "result=list(map(lambda x:2**x,range(terms)))\n",
    "print(\"the total terms are:\",terms)\n",
    "for i in range(terms):\n",
    "    print(\"2 raised to the power\",i,\"is\",result[i])"
   ]
  },
  {
   "cell_type": "code",
   "execution_count": null,
   "id": "34975104",
   "metadata": {},
   "outputs": [],
   "source": [
    "#Python Program to Check Armstrong Number (for 3 digits)\n",
    "# find the sum of the cube of each digit\n",
    "#Python Program to Find Armstrong Number in an Interval\n",
    "#Python Program to Find the Sum of Natural Numbers\n",
    "#Python Program To Display Powers of 2 Using Anonymous Function Display the powers of 2 using anonymous function\n",
    "#Python Program to Find Numbers Divisible by Another Number\n",
    "#Python Program to Convert Decimal to Binary\n",
    "#Python Program to Convert Decimal to Hexadecimal\n",
    "#Python Program to Find ASCII Value of Character\n",
    "\n",
    "#Write a python function to find HCf or GCD and return the value\n",
    "#Write a python function to find HCf or GCD and return the value using euclidian Algorithm\n",
    "#Write a python program to find HCf or GCD using euclidian Algorithm\n",
    "#Python Program to Find LCM\n",
    "#write a Python function to Find LCM and returb the value\n",
    "#Python Program to Compute LCM Using GCD\n",
    "#Python funcction to Find the Factors of a Number\n",
    "#Python Program to Make a Simple Calculator\n",
    "#Python Program to Display Fibonacci Sequence Using Recursion\n",
    "#Python Program to Find Sum of Natural Numbers Using Recursion\n",
    "#Python Program to Find Factorial of Number Using Recursion\n",
    "#Python Program to Add Two Matrices\n",
    "#Python Program to Add Two Matrices using Nested List Comprehension\n",
    "#Python Program to Transpose a Matrix using Nested Loop\n",
    "#Python Program to Transpose a Matrix using Nested List Comprehension\n",
    "#Python Program to Multiply Two Matrices using Nested Loop\n",
    "#Python Program to Multiply Two Matrices using Nested List Comprehension\n",
    "#Python Program to Check Whether a String is Palindrome or Not\n",
    "#Python Program to Remove Punctuations From a String\n",
    "#Python Program to Sort Words in Alphabetic Order\n",
    "#Python Program to Illustrate Different Set Operations\n",
    "#Python Program to Count the Number of Each Vowel \n",
    "#Python Program to Count the Number of Each Vowel Using a list and a dictionary comprehension\n",
    "#Python Program Given a string, find the length of the longest substring without repeating characters.\n",
    "#Python Program Given an array of integers, return indices of the two numbers such that they add up to a specific target.\n",
    "#Python Program Given a sorted integer array without duplicates, return the summary of its ranges.\n",
    "#Python Program to Rotate an array of n elements to the right by k steps.\n",
    "#Python Program to Consider an array of non-negative integers. A second array is formed by shuffling the elements of the first array and deleting a random element. Given these two arrays, #Python Program Given a collection of intervals which are already sorted by start number, merge all overlapping intervals.\n",
    "#Python Program Given a list slice it into a 3 equal chunks and revert each list\n",
    "#write a program to calculate exponents of an input\n",
    "#write a program to multiply two Matrix \n",
    "#write a program to find and print the remainder of two number\n",
    "#Python program to compute sum of digits in number\n",
    "#Python program to Sort the list in ascending order\n",
    "#Python program to Sort the list in descending order\n",
    "#Removes the item at the given index from the list and returns the removed item\n",
    "#Returns the number of times the specified element appears in the list\n",
    "#access first characters in a string\n",
    "#access Last characters in a string\n",
    "# Generate a list by list comprehension\n",
    "# Set the values in the new list to upper case\n",
    "# Sort the string list alphabetically\n",
    "# Join Two Sets\n",
    "#keep only the items that are present in both sets\n",
    "#Keep All items from List But NOT the Duplicates\n",
    "# Create and print a dictionary\n",
    "# Calculate the length of dictionary"
   ]
  },
  {
   "cell_type": "code",
   "execution_count": 1,
   "id": "98ae8a13",
   "metadata": {},
   "outputs": [
    {
     "name": "stdout",
     "output_type": "stream",
     "text": [
      "the numbers divisible by 2 are: [20, 62, 50, 82, 90, 54, 44]\n"
     ]
    }
   ],
   "source": [
    "my_list=[20,62,50,82,90,99.13,54,44,77]\n",
    "result=list(filter(lambda x:(x%2==0),my_list))\n",
    "print(\"the numbers divisible by 2 are:\",result)"
   ]
  },
  {
   "cell_type": "code",
   "execution_count": 3,
   "id": "9595703e",
   "metadata": {},
   "outputs": [
    {
     "name": "stdout",
     "output_type": "stream",
     "text": [
      "1001000\n"
     ]
    }
   ],
   "source": [
    "def convertToBinary(n):\n",
    "    if n>1:\n",
    "        convertToBinary(n//2)\n",
    "    print(n%2,end='')\n",
    "dec=72\n",
    "convertToBinary(dec)\n",
    "print()"
   ]
  },
  {
   "cell_type": "code",
   "execution_count": 2,
   "id": "d610ec3d",
   "metadata": {},
   "outputs": [
    {
     "name": "stdout",
     "output_type": "stream",
     "text": [
      "The ASCII value of 'd' is 100\n"
     ]
    }
   ],
   "source": [
    "#Python Program to Find ASCII Value of Character\n",
    "c = 'd'\n",
    "print(\"The ASCII value of '\" + c + \"' is\", ord(c))"
   ]
  },
  {
   "cell_type": "code",
   "execution_count": 8,
   "id": "8f7a9a03",
   "metadata": {},
   "outputs": [
    {
     "name": "stdout",
     "output_type": "stream",
     "text": [
      "the hcf is 22\n"
     ]
    }
   ],
   "source": [
    "#Python Program to Find HCF or GCD and return the vaue\n",
    "def compute_hcf(x,y):\n",
    "    if x>y:\n",
    "        smaller=y\n",
    "    else:\n",
    "        smaller=x\n",
    "    for i in range(1,smaller+1):\n",
    "        if((x%i==0)and(y%i==0)):\n",
    "            hcf=i\n",
    "    return hcf\n",
    "num1=88\n",
    "num2=66\n",
    "print(\"the hcf is\",compute_hcf(num1,num2))\n",
    "\n"
   ]
  },
  {
   "cell_type": "code",
   "execution_count": 9,
   "id": "0fa44381",
   "metadata": {},
   "outputs": [
    {
     "name": "stdout",
     "output_type": "stream",
     "text": [
      "The L.C.M. is 3264\n"
     ]
    }
   ],
   "source": [
    "#Python Program to Find LCM\n",
    "def compute_lcm(x, y):\n",
    "\n",
    "   # choose the greater number\n",
    "   if x > y:\n",
    "       greater = x\n",
    "   else:\n",
    "       greater = y\n",
    "\n",
    "   while(True):\n",
    "       if((greater % x == 0) and (greater % y == 0)):\n",
    "           lcm = greater\n",
    "           break\n",
    "       greater += 1\n",
    "\n",
    "   return lcm\n",
    "\n",
    "num1 = 102\n",
    "num2 = 64\n",
    "\n",
    "print(\"The L.C.M. is\", compute_lcm(num1, num2))"
   ]
  },
  {
   "cell_type": "code",
   "execution_count": 11,
   "id": "6e7e48f7",
   "metadata": {},
   "outputs": [
    {
     "name": "stdout",
     "output_type": "stream",
     "text": [
      "The factors of 410 are:\n",
      "1\n",
      "2\n",
      "5\n",
      "10\n",
      "41\n",
      "82\n",
      "205\n",
      "410\n"
     ]
    }
   ],
   "source": [
    "#Python funcction to Find the Factors of a Number\n",
    "def print_factors(x):\n",
    "   print(\"The factors of\",x,\"are:\")\n",
    "   for i in range(1, x + 1):\n",
    "       if x % i == 0:\n",
    "           print(i)\n",
    "\n",
    "num = 410\n",
    "\n",
    "print_factors(num)"
   ]
  },
  {
   "cell_type": "code",
   "execution_count": 13,
   "id": "48a787cf",
   "metadata": {},
   "outputs": [
    {
     "name": "stdout",
     "output_type": "stream",
     "text": [
      "The sum is 120\n"
     ]
    }
   ],
   "source": [
    "#Python Program to Find Sum of Natural Numbers Using Recursion\n",
    "\n",
    "def recur_sum(n):\n",
    "   if n <= 1:\n",
    "       return n\n",
    "   else:\n",
    "       return n + recur_sum(n-1)\n",
    "\n",
    "num = 15\n",
    "\n",
    "if num < 0:\n",
    "   print(\"Enter a positive number\")\n",
    "else:\n",
    "   print(\"The sum is\",recur_sum(num))"
   ]
  },
  {
   "cell_type": "code",
   "execution_count": 14,
   "id": "d0aaa84d",
   "metadata": {},
   "outputs": [
    {
     "name": "stdout",
     "output_type": "stream",
     "text": [
      "[7, 12, 9]\n",
      "[6, 8, 16]\n",
      "[8, 14, 11]\n"
     ]
    }
   ],
   "source": [
    "# Program to add two matrices using nested loop\n",
    "\n",
    "X = [[6,8,3],\n",
    "    [3 ,1,7],\n",
    "    [4 ,5,2]]\n",
    "\n",
    "Y = [[1,4,6],\n",
    "    [3,7,9],\n",
    "    [4,9,9]]\n",
    "\n",
    "result = [[0,0,0],\n",
    "         [0,0,0],\n",
    "         [0,0,0]]\n",
    "\n",
    "# iterate through rows\n",
    "for i in range(len(X)):\n",
    "   # iterate through columns\n",
    "   for j in range(len(X[0])):\n",
    "       result[i][j] = X[i][j] + Y[i][j]\n",
    "\n",
    "for r in result:\n",
    "   print(r)"
   ]
  },
  {
   "cell_type": "code",
   "execution_count": null,
   "id": "4d9e2fb9",
   "metadata": {},
   "outputs": [],
   "source": []
  }
 ],
 "metadata": {
  "kernelspec": {
   "display_name": "Python 3",
   "language": "python",
   "name": "python3"
  },
  "language_info": {
   "codemirror_mode": {
    "name": "ipython",
    "version": 3
   },
   "file_extension": ".py",
   "mimetype": "text/x-python",
   "name": "python",
   "nbconvert_exporter": "python",
   "pygments_lexer": "ipython3",
   "version": "3.8.8"
  }
 },
 "nbformat": 4,
 "nbformat_minor": 5
}
