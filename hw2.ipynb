{
 "cells": [
  {
   "cell_type": "code",
   "execution_count": 1,
   "id": "72593bfc",
   "metadata": {},
   "outputs": [
    {
     "name": "stdout",
     "output_type": "stream",
     "text": [
      "enter the number of terms:16\n",
      "the fibonacci sequence is\n",
      "0\n",
      "1\n",
      "1\n",
      "2\n",
      "3\n",
      "5\n",
      "8\n",
      "13\n",
      "21\n",
      "34\n",
      "55\n",
      "89\n",
      "144\n",
      "233\n",
      "377\n",
      "610\n",
      "987\n"
     ]
    }
   ],
   "source": [
    "x=int(input(\"enter the number of terms:\"))\n",
    "a=0\n",
    "b=1\n",
    "if x<=0:\n",
    "    print(\"enter a postive number\")\n",
    "elif x==1:\n",
    "    print(\"the fibonacci sequence is\")\n",
    "    print(b)\n",
    "else:\n",
    "\n",
    "    print(\"the fibonacci sequence is\")\n",
    "    print(a)\n",
    "    print(b)\n",
    "    for i in range(1,x):\n",
    "        c=a+b\n",
    "        a=b\n",
    "        b=c\n",
    "        print(c)"
   ]
  },
  {
   "cell_type": "code",
   "execution_count": 2,
   "id": "08ea3c03",
   "metadata": {},
   "outputs": [
    {
     "name": "stdout",
     "output_type": "stream",
     "text": [
      "enter the number:407\n",
      "this is an amstrong number\n"
     ]
    }
   ],
   "source": [
    "num=int(input(\"enter the number:\"))\n",
    "sum=0\n",
    "temp=num\n",
    "while temp>0:\n",
    "    digit=temp%10\n",
    "    sum+=digit**3\n",
    "    temp//=10\n",
    "if num==sum:\n",
    "    print(\"this is an amstrong number\")\n",
    "else:\n",
    "    print(\"this is not an amstrong number\")"
   ]
  },
  {
   "cell_type": "code",
   "execution_count": 3,
   "id": "e91ec657",
   "metadata": {},
   "outputs": [
    {
     "name": "stdout",
     "output_type": "stream",
     "text": [
      "enter the number:407\n",
      "the cube of the number is: 343\n",
      "the cube of the number is: 343\n",
      "the cube of the number is: 407\n"
     ]
    }
   ],
   "source": [
    "num=int(input(\"enter the number:\"))\n",
    "sum=0\n",
    "temp=num\n",
    "while temp>0:\n",
    "    digit=temp%10\n",
    "    sum+=digit**3\n",
    "    temp//=10\n",
    "    \n",
    "    print(\"the cube of the number is:\",sum)\n",
    "   \n",
    "    \n",
    "    "
   ]
  },
  {
   "cell_type": "code",
   "execution_count": 4,
   "id": "d62a8200",
   "metadata": {},
   "outputs": [],
   "source": [
    "#Python Program to Check Armstrong Number (for 3 digits)\n",
    "# find the sum of the cube of each digit\n",
    "#Python Program to Find Armstrong Number in an Interval\n",
    "#Python Program to Find the Sum of Natural Numbers\n",
    "#Python Program To Display Powers of 2 Using Anonymous Function Display the powers of 2 using anonymous function\n",
    "#Python Program to Find Numbers Divisible by Another Number\n",
    "#Python Program to Convert Decimal to Binary\n",
    "#Python Program to Convert Decimal to Hexadecimal\n",
    "#Python Program to Find ASCII Value of Character\n",
    "#Python Program to Find HCF or GCD\n",
    "#Write a python function to find HCf or GCD and return the value\n",
    "#Write a python function to find HCf or GCD and return the value using euclidian Algorithm\n",
    "#Write a python program to find HCf or GCD using euclidian Algorithm\n",
    "#Python Program to Find LCM\n",
    "#write a Python function to Find LCM and returb the value\n",
    "#Python Program to Compute LCM Using GCD\n",
    "#Python funcction to Find the Factors of a Number\n",
    "#Python Program to Make a Simple Calculator\n",
    "#Python Program to Display Fibonacci Sequence Using Recursion\n",
    "#Python Program to Find Sum of Natural Numbers Using Recursion\n",
    "#Python Program to Find Factorial of Number Using Recursion\n",
    "#Python Program to Add Two Matrices\n",
    "#Python Program to Add Two Matrices using Nested List Comprehension\n",
    "#Python Program to Transpose a Matrix using Nested Loop\n",
    "#Python Program to Transpose a Matrix using Nested List Comprehension\n",
    "#Python Program to Multiply Two Matrices using Nested Loop\n",
    "#Python Program to Multiply Two Matrices using Nested List Comprehension\n",
    "#Python Program to Check Whether a String is Palindrome or Not\n",
    "#Python Program to Remove Punctuations From a String\n",
    "#Python Program to Sort Words in Alphabetic Order\n",
    "#Python Program to Illustrate Different Set Operations\n",
    "#Python Program to Count the Number of Each Vowel \n",
    "#Python Program to Count the Number of Each Vowel Using a list and a dictionary comprehension\n",
    "#Python Program Given a string, find the length of the longest substring without repeating characters.\n",
    "#Python Program Given an array of integers, return indices of the two numbers such that they add up to a specific target.\n",
    "#Python Program Given a sorted integer array without duplicates, return the summary of its ranges.\n",
    "#Python Program to Rotate an array of n elements to the right by k steps.\n",
    "#Python Program to Consider an array of non-negative integers. A second array is formed by shuffling the elements of the first array and deleting a random element. Given these two arrays, #Python Program Given a collection of intervals which are already sorted by start number, merge all overlapping intervals.\n",
    "#Python Program Given a list slice it into a 3 equal chunks and revert each list\n",
    "#write a program to calculate exponents of an input\n",
    "#write a program to multiply two Matrix \n",
    "#write a program to find and print the remainder of two number\n",
    "#Python program to compute sum of digits in number\n",
    "#Python program to Sort the list in ascending order\n",
    "#Python program to Sort the list in descending order\n",
    "#Removes the item at the given index from the list and returns the removed item\n",
    "#Returns the number of times the specified element appears in the list\n",
    "#access first characters in a string\n",
    "#access Last characters in a string\n",
    "# Generate a list by list comprehension\n",
    "# Set the values in the new list to upper case\n",
    "# Sort the string list alphabetically\n",
    "# Join Two Sets\n",
    "#keep only the items that are present in both sets\n",
    "#Keep All items from List But NOT the Duplicates\n",
    "# Create and print a dictionary\n",
    "# Calculate the length of dictionary"
   ]
  },
  {
   "cell_type": "code",
   "execution_count": 5,
   "id": "8b0b02ac",
   "metadata": {},
   "outputs": [
    {
     "name": "stdout",
     "output_type": "stream",
     "text": [
      "153\n",
      "370\n",
      "371\n",
      "407\n"
     ]
    }
   ],
   "source": [
    "#Python Program to Find Armstrong Number in an Interval\n",
    "lower=10\n",
    "upper=1000\n",
    "for num in range(lower,upper+1):\n",
    "    order=len(str(num))\n",
    "    sum=0\n",
    "    temp=num\n",
    "    while temp>0:\n",
    "        digit=temp%10\n",
    "        sum+=digit**3\n",
    "        temp//=10\n",
    "    if num==sum:\n",
    "        print(num)\n"
   ]
  },
  {
   "cell_type": "code",
   "execution_count": 1,
   "id": "fbd71f12",
   "metadata": {},
   "outputs": [
    {
     "name": "stdout",
     "output_type": "stream",
     "text": [
      "the sum is 465\n"
     ]
    }
   ],
   "source": [
    "#Python Program to Find the Sum of Natural Numbers\n",
    "num=30\n",
    "if num>0:\n",
    "    sum=0\n",
    "    while(num>0):\n",
    "        sum+=num\n",
    "        num-=1\n",
    "    print(\"the sum is\",sum)\n",
    "else:\n",
    "    print(\"enter a natural number\")\n",
    "        "
   ]
  },
  {
   "cell_type": "code",
   "execution_count": 10,
   "id": "58facc0a",
   "metadata": {},
   "outputs": [
    {
     "ename": "SyntaxError",
     "evalue": "invalid syntax (<ipython-input-10-a24a89048e6f>, line 3)",
     "output_type": "error",
     "traceback": [
      "\u001b[1;36m  File \u001b[1;32m\"<ipython-input-10-a24a89048e6f>\"\u001b[1;36m, line \u001b[1;32m3\u001b[0m\n\u001b[1;33m    my_list=[20,19,30,40,33,99,120,77,74,54,65,44,65,42,90,120,199,200,889,1999,19000,200000,206,893,]\u001b[0m\n\u001b[1;37m    ^\u001b[0m\n\u001b[1;31mSyntaxError\u001b[0m\u001b[1;31m:\u001b[0m invalid syntax\n"
     ]
    }
   ],
   "source": [
    "#Python Program to Find Numbers Divisible by Another Number\n",
    "num=int(input(\"enter the number:\")\n",
    "my_list=[20,19,30,40,33,99,120,77,74,54,65,44,65,42,90,120,199,200,889,1999,19000,200000,206,893,]\n",
    "result=list(filter(lambda x:(x%num==0),my_list))"
   ]
  },
  {
   "cell_type": "code",
   "execution_count": null,
   "id": "03ee614b",
   "metadata": {},
   "outputs": [],
   "source": []
  },
  {
   "cell_type": "code",
   "execution_count": null,
   "id": "ac79bf2b",
   "metadata": {},
   "outputs": [],
   "source": []
  },
  {
   "cell_type": "code",
   "execution_count": null,
   "id": "8c723d77",
   "metadata": {},
   "outputs": [],
   "source": []
  },
  {
   "cell_type": "code",
   "execution_count": null,
   "id": "8f934b84",
   "metadata": {},
   "outputs": [],
   "source": []
  },
  {
   "cell_type": "code",
   "execution_count": null,
   "id": "e69e3230",
   "metadata": {},
   "outputs": [],
   "source": []
  },
  {
   "cell_type": "code",
   "execution_count": null,
   "id": "105378de",
   "metadata": {},
   "outputs": [],
   "source": []
  },
  {
   "cell_type": "code",
   "execution_count": null,
   "id": "b9ff8340",
   "metadata": {},
   "outputs": [],
   "source": []
  }
 ],
 "metadata": {
  "kernelspec": {
   "display_name": "Python 3",
   "language": "python",
   "name": "python3"
  },
  "language_info": {
   "codemirror_mode": {
    "name": "ipython",
    "version": 3
   },
   "file_extension": ".py",
   "mimetype": "text/x-python",
   "name": "python",
   "nbconvert_exporter": "python",
   "pygments_lexer": "ipython3",
   "version": "3.8.8"
  }
 },
 "nbformat": 4,
 "nbformat_minor": 5
}
